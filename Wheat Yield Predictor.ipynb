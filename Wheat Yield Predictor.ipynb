{
 "cells": [
  {
   "cell_type": "code",
   "execution_count": 47,
   "id": "3a65a07c",
   "metadata": {},
   "outputs": [],
   "source": [
    "#import sklearn\n",
    "import sklearn\n",
    "\n",
    "#import pandas\n",
    "import pandas as pd\n",
    " \n",
    "#import numpy\n",
    "import numpy as np\n",
    " \n",
    "#import seaborn \n",
    "import seaborn as sns\n",
    " \n",
    "#import matplotplib \n",
    "import matplotlib.pyplot as plt "
   ]
  },
  {
   "cell_type": "code",
   "execution_count": 51,
   "id": "5e068fca",
   "metadata": {},
   "outputs": [
    {
     "data": {
      "text/plain": [
       "<bound method NDFrame.head of     humidity  pressure  visibility  windSpeed        NDVI  Yield\n",
       "0       0.69   1027.95       10.00       3.80  136.179718   35.6\n",
       "1       0.65   1028.26       10.00       6.03  135.697540   35.6\n",
       "2       0.67   1028.29       10.00       3.59  135.676956   35.6\n",
       "3       0.69   1027.74       10.00       5.18  135.005798   35.6\n",
       "4       0.70   1027.16        9.99       4.69  134.803864   35.6\n",
       "..       ...       ...         ...        ...         ...    ...\n",
       "95      0.56   1014.16        9.99       6.77  149.991837   26.6\n",
       "96      0.55   1014.11        9.98       6.13  149.765945   26.6\n",
       "97      0.55   1014.15        9.97       6.05  149.700806   26.6\n",
       "98      0.53   1013.66        9.98       5.35  148.869537   26.6\n",
       "99      0.71   1015.40       10.00      13.71  156.774765   22.9\n",
       "\n",
       "[100 rows x 6 columns]>"
      ]
     },
     "execution_count": 51,
     "metadata": {},
     "output_type": "execute_result"
    }
   ],
   "source": [
    "df = pd.read_csv(\"training dataset.csv\", na_values=0)\n",
    "df.pop('dewPoint')\n",
    "df.pop('temperatureMax')\n",
    "df.pop('temperatureMin')\n",
    "df.head\n",
    "# Converting nan values into num\n",
    "# print(np.any(np.isnan(df)))\n",
    "# df = np.nan_to_num(df)"
   ]
  },
  {
   "cell_type": "code",
   "execution_count": 29,
   "id": "ef3323d0-f559-430c-b510-d2b5d027868e",
   "metadata": {},
   "outputs": [
    {
     "name": "stdout",
     "output_type": "stream",
     "text": [
      "Dataset contains 100 rows and 6 columns\n"
     ]
    }
   ],
   "source": [
    "from sklearn.model_selection import train_test_split\n",
    "shape=df.shape\n",
    "print(\"Dataset contains {} rows and {} columns\".format(shape[0],shape[1]))"
   ]
  },
  {
   "cell_type": "code",
   "execution_count": 30,
   "id": "023ff4f9-7f3f-4065-aee5-38ede2aa2f5b",
   "metadata": {},
   "outputs": [
    {
     "data": {
      "text/plain": [
       "Index(['humidity', 'pressure', 'visibility', 'windSpeed', 'NDVI', 'Yield'], dtype='object')"
      ]
     },
     "execution_count": 30,
     "metadata": {},
     "output_type": "execute_result"
    }
   ],
   "source": [
    "df.columns"
   ]
  },
  {
   "cell_type": "code",
   "execution_count": 31,
   "id": "aec35fdf-1f0a-4405-b0cd-b2bd2fb97425",
   "metadata": {
    "scrolled": true
   },
   "outputs": [
    {
     "data": {
      "text/html": [
       "<div>\n",
       "<style scoped>\n",
       "    .dataframe tbody tr th:only-of-type {\n",
       "        vertical-align: middle;\n",
       "    }\n",
       "\n",
       "    .dataframe tbody tr th {\n",
       "        vertical-align: top;\n",
       "    }\n",
       "\n",
       "    .dataframe thead th {\n",
       "        text-align: right;\n",
       "    }\n",
       "</style>\n",
       "<table border=\"1\" class=\"dataframe\">\n",
       "  <thead>\n",
       "    <tr style=\"text-align: right;\">\n",
       "      <th></th>\n",
       "      <th>humidity</th>\n",
       "      <th>pressure</th>\n",
       "      <th>visibility</th>\n",
       "      <th>windSpeed</th>\n",
       "      <th>NDVI</th>\n",
       "      <th>Yield</th>\n",
       "    </tr>\n",
       "  </thead>\n",
       "  <tbody>\n",
       "    <tr>\n",
       "      <th>count</th>\n",
       "      <td>100.000000</td>\n",
       "      <td>100.000000</td>\n",
       "      <td>100.000000</td>\n",
       "      <td>100.000000</td>\n",
       "      <td>100.000000</td>\n",
       "      <td>100.0000</td>\n",
       "    </tr>\n",
       "    <tr>\n",
       "      <th>mean</th>\n",
       "      <td>0.583200</td>\n",
       "      <td>1016.613000</td>\n",
       "      <td>9.697200</td>\n",
       "      <td>8.588000</td>\n",
       "      <td>146.080231</td>\n",
       "      <td>31.5340</td>\n",
       "    </tr>\n",
       "    <tr>\n",
       "      <th>std</th>\n",
       "      <td>0.151237</td>\n",
       "      <td>5.316123</td>\n",
       "      <td>0.504503</td>\n",
       "      <td>3.867559</td>\n",
       "      <td>8.429181</td>\n",
       "      <td>7.2927</td>\n",
       "    </tr>\n",
       "    <tr>\n",
       "      <th>min</th>\n",
       "      <td>0.280000</td>\n",
       "      <td>1011.310000</td>\n",
       "      <td>8.060000</td>\n",
       "      <td>3.000000</td>\n",
       "      <td>129.987412</td>\n",
       "      <td>21.5000</td>\n",
       "    </tr>\n",
       "    <tr>\n",
       "      <th>25%</th>\n",
       "      <td>0.500000</td>\n",
       "      <td>1013.510000</td>\n",
       "      <td>9.267500</td>\n",
       "      <td>5.097500</td>\n",
       "      <td>142.680958</td>\n",
       "      <td>25.2000</td>\n",
       "    </tr>\n",
       "    <tr>\n",
       "      <th>50%</th>\n",
       "      <td>0.650000</td>\n",
       "      <td>1015.090000</td>\n",
       "      <td>9.970000</td>\n",
       "      <td>7.925000</td>\n",
       "      <td>146.670639</td>\n",
       "      <td>29.3000</td>\n",
       "    </tr>\n",
       "    <tr>\n",
       "      <th>75%</th>\n",
       "      <td>0.700000</td>\n",
       "      <td>1017.192500</td>\n",
       "      <td>10.000000</td>\n",
       "      <td>11.147500</td>\n",
       "      <td>150.270363</td>\n",
       "      <td>36.2000</td>\n",
       "    </tr>\n",
       "    <tr>\n",
       "      <th>max</th>\n",
       "      <td>0.780000</td>\n",
       "      <td>1031.440000</td>\n",
       "      <td>10.000000</td>\n",
       "      <td>17.310000</td>\n",
       "      <td>163.253937</td>\n",
       "      <td>44.4000</td>\n",
       "    </tr>\n",
       "  </tbody>\n",
       "</table>\n",
       "</div>"
      ],
      "text/plain": [
       "         humidity     pressure  visibility   windSpeed        NDVI     Yield\n",
       "count  100.000000   100.000000  100.000000  100.000000  100.000000  100.0000\n",
       "mean     0.583200  1016.613000    9.697200    8.588000  146.080231   31.5340\n",
       "std      0.151237     5.316123    0.504503    3.867559    8.429181    7.2927\n",
       "min      0.280000  1011.310000    8.060000    3.000000  129.987412   21.5000\n",
       "25%      0.500000  1013.510000    9.267500    5.097500  142.680958   25.2000\n",
       "50%      0.650000  1015.090000    9.970000    7.925000  146.670639   29.3000\n",
       "75%      0.700000  1017.192500   10.000000   11.147500  150.270363   36.2000\n",
       "max      0.780000  1031.440000   10.000000   17.310000  163.253937   44.4000"
      ]
     },
     "execution_count": 31,
     "metadata": {},
     "output_type": "execute_result"
    }
   ],
   "source": [
    "#Statistical Details of the dataset\n",
    "df.describe()"
   ]
  },
  {
   "cell_type": "code",
   "execution_count": 32,
   "id": "cdf710fe",
   "metadata": {
    "scrolled": true
   },
   "outputs": [
    {
     "data": {
      "text/plain": [
       "(array([12.,  0.,  6.,  3., 16.,  6.,  6., 13., 23., 15.]),\n",
       " array([0.28, 0.33, 0.38, 0.43, 0.48, 0.53, 0.58, 0.63, 0.68, 0.73, 0.78]),\n",
       " <BarContainer object of 10 artists>)"
      ]
     },
     "execution_count": 32,
     "metadata": {},
     "output_type": "execute_result"
    },
    {
     "data": {
      "image/png": "[encoded data removed]",
      "text/plain": [
       "<Figure size 432x288 with 1 Axes>"
      ]
     },
     "metadata": {
      "needs_background": "light"
     },
     "output_type": "display_data"
    }
   ],
   "source": [
    "plt.xlabel('HUMIDITY')\n",
    "plt.hist(df['humidity'])"
   ]
  },
  {
   "cell_type": "code",
   "execution_count": 33,
   "id": "8049cba0",
   "metadata": {},
   "outputs": [
    {
     "data": {
      "text/plain": [
       "(array([20., 34., 23., 10.,  0.,  0.,  0.,  1.,  5.,  7.]),\n",
       " array([1011.31 , 1013.323, 1015.336, 1017.349, 1019.362, 1021.375,\n",
       "        1023.388, 1025.401, 1027.414, 1029.427, 1031.44 ]),\n",
       " <BarContainer object of 10 artists>)"
      ]
     },
     "execution_count": 33,
     "metadata": {},
     "output_type": "execute_result"
    },
    {
     "data": {
      "image/png": "[encoded data removed]",
      "text/plain": [
       "<Figure size 432x288 with 1 Axes>"
      ]
     },
     "metadata": {
      "needs_background": "light"
     },
     "output_type": "display_data"
    }
   ],
   "source": [
    "plt.xlabel('PRESSURE')\n",
    "plt.hist(df['pressure'], color = 'Green')"
   ]
  },
  {
   "cell_type": "code",
   "execution_count": 34,
   "id": "ad50bd97",
   "metadata": {},
   "outputs": [
    {
     "data": {
      "text/plain": [
       "(array([ 4.,  1.,  1.,  0.,  6.,  8.,  7.,  0.,  0., 73.]),\n",
       " array([ 8.06 ,  8.254,  8.448,  8.642,  8.836,  9.03 ,  9.224,  9.418,\n",
       "         9.612,  9.806, 10.   ]),\n",
       " <BarContainer object of 10 artists>)"
      ]
     },
     "execution_count": 34,
     "metadata": {},
     "output_type": "execute_result"
    },
    {
     "data": {
      "image/png": "[encoded data removed]",
      "text/plain": [
       "<Figure size 432x288 with 1 Axes>"
      ]
     },
     "metadata": {
      "needs_background": "light"
     },
     "output_type": "display_data"
    }
   ],
   "source": [
    "plt.xlabel('VISIBILITY')\n",
    "plt.hist(df['visibility'], color = 'brown')"
   ]
  },
  {
   "cell_type": "code",
   "execution_count": 35,
   "id": "e87ac7cb",
   "metadata": {},
   "outputs": [
    {
     "data": {
      "text/plain": [
       "(array([ 7., 30.,  9.,  9., 12., 12.,  2., 13.,  0.,  6.]),\n",
       " array([ 3.   ,  4.431,  5.862,  7.293,  8.724, 10.155, 11.586, 13.017,\n",
       "        14.448, 15.879, 17.31 ]),\n",
       " <BarContainer object of 10 artists>)"
      ]
     },
     "execution_count": 35,
     "metadata": {},
     "output_type": "execute_result"
    },
    {
     "data": {
      "image/png": "[encoded data removed]",
      "text/plain": [
       "<Figure size 432x288 with 1 Axes>"
      ]
     },
     "metadata": {
      "needs_background": "light"
     },
     "output_type": "display_data"
    }
   ],
   "source": [
    "plt.xlabel('WINDSPEED')\n",
    "plt.hist(df['windSpeed'], color = 'blue')"
   ]
  },
  {
   "cell_type": "code",
   "execution_count": 36,
   "id": "fd8e8224",
   "metadata": {},
   "outputs": [
    {
     "data": {
      "text/plain": [
       "(array([12.,  6.,  0., 11., 21., 21., 14.,  5.,  2.,  8.]),\n",
       " array([129.9874115 , 133.31406403, 136.64071656, 139.96736909,\n",
       "        143.29402162, 146.62067415, 149.94732668, 153.27397921,\n",
       "        156.60063174, 159.92728427, 163.2539368 ]),\n",
       " <BarContainer object of 10 artists>)"
      ]
     },
     "execution_count": 36,
     "metadata": {},
     "output_type": "execute_result"
    },
    {
     "data": {
      "image/png": "[encoded data removed]",
      "text/plain": [
       "<Figure size 432x288 with 1 Axes>"
      ]
     },
     "metadata": {
      "needs_background": "light"
     },
     "output_type": "display_data"
    }
   ],
   "source": [
    "plt.xlabel('NDVI')\n",
    "plt.hist(df['NDVI'], color = 'orange')"
   ]
  },
  {
   "cell_type": "code",
   "execution_count": 37,
   "id": "a3a4706e",
   "metadata": {
    "scrolled": false
   },
   "outputs": [
    {
     "data": {
      "image/png": "[encoded data removed]",
      "text/plain": [
       "<Figure size 432x288 with 1 Axes>"
      ]
     },
     "metadata": {
      "needs_background": "light"
     },
     "output_type": "display_data"
    }
   ],
   "source": [
    "# Data Scaling – Standardization\n",
    "\n",
    "#define the columns \n",
    "cols = ['humidity', 'pressure', 'visibility', 'windSpeed',\n",
    "        'NDVI', 'Yield']\n",
    "\n",
    "#Call the sklearn librart and import scaler values \n",
    "from sklearn.preprocessing import StandardScaler\n",
    " \n",
    "#call the standard scaler \n",
    "std_scaler = StandardScaler()\n",
    " \n",
    "#fit the values to the function \n",
    "Stand_Sc = std_scaler.fit_transform(df[cols].iloc[:,range(0,5)].values)\n",
    " \n",
    "#use seaborn for KDE plot\n",
    "sns.kdeplot(Stand_Sc[:,4],fill=True, color = 'Green')\n",
    " \n",
    "#Label the plot \n",
    "plt.xlabel('standardized values - NDVI')\n",
    " \n",
    "#Print the plot \n",
    "plt.show()        \n",
    "        "
   ]
  },
  {
   "cell_type": "code",
   "execution_count": 38,
   "id": "6fee0487",
   "metadata": {},
   "outputs": [
    {
     "data": {
      "image/png": "[encoded data removed]",
      "text/plain": [
       "<Figure size 360x360 with 1 Axes>"
      ]
     },
     "metadata": {
      "needs_background": "light"
     },
     "output_type": "display_data"
    }
   ],
   "source": [
    "# Data Scaling – Normalization\n",
    "\n",
    "#Import Normalizer from sklearn\n",
    "from sklearn.preprocessing import Normalizer\n",
    " \n",
    "#initialize normalizer\n",
    "data_norm = Normalizer()\n",
    " \n",
    "#Fit the data\n",
    "Normalize = data_norm.fit_transform(df[cols].iloc[:,range(0,5)].values)\n",
    " \n",
    "#Distribution plot \n",
    "#sns.displot(Normalize[:,5],fill=True, color = 'orange')\n",
    "sns.displot(Normalize[:,4],fill=True, color = 'orange', kde=True)\n",
    " \n",
    "#Add the axis labels \n",
    "plt.xlabel('normalized values - NDVI')\n",
    " \n",
    "#Display the plot \n",
    "plt.show()"
   ]
  },
  {
   "cell_type": "code",
   "execution_count": 39,
   "id": "4e873caa-5e53-46c9-be7b-91558e4c65f2",
   "metadata": {},
   "outputs": [],
   "source": [
    "# Define x and y\n",
    "x = df.drop(['Yield'], axis=1).values\n",
    "y = df['Yield'].values\n",
    "\n",
    "# np.isnan(x)\n",
    "# np.where(np.isnan(x))\n",
    "# np.nan_to_num(x)\n",
    "# np.isnan(y)\n",
    "# np.where(np.isnan(y))\n",
    "# np.nan_to_num(y)"
   ]
  },
  {
   "cell_type": "code",
   "execution_count": 40,
   "id": "778ab254",
   "metadata": {},
   "outputs": [
    {
     "name": "stdout",
     "output_type": "stream",
     "text": [
      "[35.6 35.6 35.6 35.6 35.6 35.6 29.3 29.3 29.3 29.3 29.3 29.3 41.1 41.1\n",
      " 41.1 41.1 41.1 41.1 36.2 36.2 36.2 36.2 36.2 36.2 21.5 21.5 21.5 21.5\n",
      " 21.5 21.5 25.3 25.3 25.3 25.3 25.3 25.3 23.9 23.9 23.9 33.  33.  33.\n",
      " 33.  33.  33.  25.2 25.2 25.2 25.2 25.2 25.2 40.8 40.8 40.8 40.8 40.8\n",
      " 40.8 24.8 24.8 24.8 24.8 24.8 24.8 22.9 22.9 22.9 22.9 22.9 22.9 44.4\n",
      " 44.4 44.4 44.4 44.4 44.4 28.5 28.5 28.5 28.5 28.5 28.5 42.2 42.2 42.2\n",
      " 42.2 42.2 42.2 32.4 32.4 32.4 32.4 32.4 32.4 26.6 26.6 26.6 26.6 26.6\n",
      " 26.6 22.9]\n"
     ]
    }
   ],
   "source": [
    "print(y)"
   ]
  },
  {
   "cell_type": "code",
   "execution_count": 41,
   "id": "8bf2990a",
   "metadata": {},
   "outputs": [
    {
     "name": "stdout",
     "output_type": "stream",
     "text": [
      "[[6.90000000e-01 1.02795000e+03 1.00000000e+01 3.80000000e+00\n",
      "  1.36179718e+02]\n",
      " [6.50000000e-01 1.02826000e+03 1.00000000e+01 6.03000000e+00\n",
      "  1.35697540e+02]\n",
      " [6.70000000e-01 1.02829000e+03 1.00000000e+01 3.59000000e+00\n",
      "  1.35676956e+02]\n",
      " [6.90000000e-01 1.02774000e+03 1.00000000e+01 5.18000000e+00\n",
      "  1.35005798e+02]\n",
      " [7.00000000e-01 1.02716000e+03 9.99000000e+00 4.69000000e+00\n",
      "  1.34803864e+02]\n",
      " [7.00000000e-01 1.02768000e+03 1.00000000e+01 4.86000000e+00\n",
      "  1.34657471e+02]\n",
      " [5.10000000e-01 1.01505000e+03 9.95000000e+00 9.71000000e+00\n",
      "  1.50427856e+02]\n",
      " [4.90000000e-01 1.01514000e+03 9.93000000e+00 1.00500000e+01\n",
      "  1.50217865e+02]\n",
      " [5.00000000e-01 1.01513000e+03 9.93000000e+00 1.00100000e+01\n",
      "  1.50143112e+02]\n",
      " [4.90000000e-01 1.01516000e+03 9.92000000e+00 1.01300000e+01\n",
      "  1.49340576e+02]\n",
      " [5.00000000e-01 1.01543000e+03 9.93000000e+00 1.18900000e+01\n",
      "  1.48109497e+02]\n",
      " [5.00000000e-01 1.01541000e+03 9.94000000e+00 1.18600000e+01\n",
      "  1.48044052e+02]\n",
      " [7.00000000e-01 1.01464000e+03 9.23000000e+00 5.70000000e+00\n",
      "  1.47534317e+02]\n",
      " [7.10000000e-01 1.01473000e+03 9.24000000e+00 5.21000000e+00\n",
      "  1.46811249e+02]\n",
      " [7.10000000e-01 1.01436000e+03 9.22000000e+00 5.04000000e+00\n",
      "  1.46530029e+02]\n",
      " [7.00000000e-01 1.01468000e+03 9.26000000e+00 5.53000000e+00\n",
      "  1.45926437e+02]\n",
      " [7.10000000e-01 1.01474000e+03 9.27000000e+00 4.91000000e+00\n",
      "  1.45495316e+02]\n",
      " [7.00000000e-01 1.01434000e+03 9.26000000e+00 4.86000000e+00\n",
      "  1.44933777e+02]\n",
      " [7.20000000e-01 1.01471000e+03 9.23000000e+00 5.83000000e+00\n",
      "  1.46811249e+02]\n",
      " [7.00000000e-01 1.01502000e+03 9.19000000e+00 6.74000000e+00\n",
      "  1.46463776e+02]\n",
      " [7.20000000e-01 1.01499000e+03 9.10000000e+00 7.51000000e+00\n",
      "  1.45783691e+02]\n",
      " [6.90000000e-01 1.01550000e+03 8.90000000e+00 1.04600000e+01\n",
      "  1.43901916e+02]\n",
      " [6.80000000e-01 1.01567000e+03 8.88000000e+00 1.10400000e+01\n",
      "  1.43590744e+02]\n",
      " [6.70000000e-01 1.01550000e+03 8.99000000e+00 1.02500000e+01\n",
      "  1.43033600e+02]\n",
      " [6.30000000e-01 1.01243000e+03 9.35000000e+00 7.91000000e+00\n",
      "  1.50968338e+02]\n",
      " [6.10000000e-01 1.01206000e+03 9.16000000e+00 6.88000000e+00\n",
      "  1.46086151e+02]\n",
      " [5.80000000e-01 1.01208000e+03 1.00000000e+01 4.64000000e+00\n",
      "  1.45270767e+02]\n",
      " [6.20000000e-01 1.01211000e+03 1.00000000e+01 6.14000000e+00\n",
      "  1.44979156e+02]\n",
      " [6.00000000e-01 1.01206000e+03 9.21000000e+00 6.69000000e+00\n",
      "  1.44672531e+02]\n",
      " [6.00000000e-01 1.01235000e+03 1.00000000e+01 4.25000000e+00\n",
      "  1.42665131e+02]\n",
      " [3.00000000e-01 1.01137000e+03 1.00000000e+01 4.49000000e+00\n",
      "  1.48502823e+02]\n",
      " [3.00000000e-01 1.01131000e+03 1.00000000e+01 4.55000000e+00\n",
      "  1.48412842e+02]\n",
      " [3.00000000e-01 1.01140000e+03 1.00000000e+01 4.90000000e+00\n",
      "  1.48031692e+02]\n",
      " [3.00000000e-01 1.01137000e+03 1.00000000e+01 4.89000000e+00\n",
      "  1.48006989e+02]\n",
      " [3.00000000e-01 1.01142000e+03 1.00000000e+01 4.44000000e+00\n",
      "  1.47569397e+02]\n",
      " [3.10000000e-01 1.01150000e+03 1.00000000e+01 5.20000000e+00\n",
      "  1.47559357e+02]\n",
      " [7.80000000e-01 1.01635000e+03 9.97000000e+00 9.30000000e+00\n",
      "  1.62582214e+02]\n",
      " [7.70000000e-01 1.01640000e+03 1.00000000e+01 1.02200000e+01\n",
      "  1.61450088e+02]\n",
      " [7.70000000e-01 1.01640000e+03 1.00000000e+01 1.02100000e+01\n",
      "  1.61450088e+02]\n",
      " [6.50000000e-01 1.01744000e+03 9.13000000e+00 1.41000000e+01\n",
      "  1.42895111e+02]\n",
      " [6.50000000e-01 1.01745000e+03 9.13000000e+00 1.41100000e+01\n",
      "  1.42761047e+02]\n",
      " [6.30000000e-01 1.01743000e+03 9.22000000e+00 1.37300000e+01\n",
      "  1.42686233e+02]\n",
      " [6.60000000e-01 1.01689000e+03 8.97000000e+00 1.31100000e+01\n",
      "  1.41887909e+02]\n",
      " [6.60000000e-01 1.01689000e+03 8.97000000e+00 1.31200000e+01\n",
      "  1.41756058e+02]\n",
      " [6.50000000e-01 1.01697000e+03 9.00000000e+00 1.32600000e+01\n",
      "  1.41743607e+02]\n",
      " [2.80000000e-01 1.01217000e+03 1.00000000e+01 1.12400000e+01\n",
      "  1.45090820e+02]\n",
      " [2.90000000e-01 1.01217000e+03 1.00000000e+01 1.11200000e+01\n",
      "  1.44994217e+02]\n",
      " [2.80000000e-01 1.01217000e+03 1.00000000e+01 1.09000000e+01\n",
      "  1.44561890e+02]\n",
      " [2.80000000e-01 1.01217000e+03 1.00000000e+01 1.10900000e+01\n",
      "  1.44561890e+02]\n",
      " [2.80000000e-01 1.01192000e+03 1.00000000e+01 1.13500000e+01\n",
      "  1.44511719e+02]\n",
      " [2.80000000e-01 1.01217000e+03 1.00000000e+01 1.14300000e+01\n",
      "  1.44158112e+02]\n",
      " [5.00000000e-01 1.01833000e+03 9.94000000e+00 1.73100000e+01\n",
      "  1.46225021e+02]\n",
      " [5.00000000e-01 1.01817000e+03 9.92000000e+00 1.72600000e+01\n",
      "  1.46225021e+02]\n",
      " [5.00000000e-01 1.01794000e+03 9.91000000e+00 1.71700000e+01\n",
      "  1.46060654e+02]\n",
      " [5.00000000e-01 1.01802000e+03 9.95000000e+00 1.71300000e+01\n",
      "  1.42285141e+02]\n",
      " [5.00000000e-01 1.01746000e+03 9.93000000e+00 1.68900000e+01\n",
      "  1.42285141e+02]\n",
      " [5.00000000e-01 1.01754000e+03 9.96000000e+00 1.70900000e+01\n",
      "  1.42285141e+02]\n",
      " [3.90000000e-01 1.01351000e+03 1.00000000e+01 9.12000000e+00\n",
      "  1.49371506e+02]\n",
      " [4.00000000e-01 1.01398000e+03 9.98000000e+00 8.94000000e+00\n",
      "  1.48708893e+02]\n",
      " [3.90000000e-01 1.01351000e+03 1.00000000e+01 8.35000000e+00\n",
      "  1.47709061e+02]\n",
      " [3.90000000e-01 1.01351000e+03 1.00000000e+01 7.92000000e+00\n",
      "  1.47127869e+02]\n",
      " [3.90000000e-01 1.01351000e+03 1.00000000e+01 7.93000000e+00\n",
      "  1.47066391e+02]\n",
      " [3.90000000e-01 1.01351000e+03 1.00000000e+01 8.35000000e+00\n",
      "  1.47049377e+02]\n",
      " [4.80000000e-01 1.01349000e+03 1.00000000e+01 5.84000000e+00\n",
      "  1.51413254e+02]\n",
      " [4.80000000e-01 1.01349000e+03 1.00000000e+01 5.74000000e+00\n",
      "  1.51393417e+02]\n",
      " [4.80000000e-01 1.01346000e+03 1.00000000e+01 5.90000000e+00\n",
      "  1.51237503e+02]\n",
      " [5.00000000e-01 1.01352000e+03 1.00000000e+01 5.07000000e+00\n",
      "  1.51083618e+02]\n",
      " [5.00000000e-01 1.01352000e+03 1.00000000e+01 5.10000000e+00\n",
      "  1.50648285e+02]\n",
      " [5.00000000e-01 1.01352000e+03 1.00000000e+01 5.09000000e+00\n",
      "  1.49998749e+02]\n",
      " [6.80000000e-01 1.01718000e+03 9.98000000e+00 1.38900000e+01\n",
      "  1.56160370e+02]\n",
      " [6.80000000e-01 1.01724000e+03 9.98000000e+00 1.41500000e+01\n",
      "  1.56160370e+02]\n",
      " [6.80000000e-01 1.01716000e+03 9.98000000e+00 1.39700000e+01\n",
      "  1.55402954e+02]\n",
      " [6.80000000e-01 1.01723000e+03 9.98000000e+00 1.43200000e+01\n",
      "  1.54374344e+02]\n",
      " [6.80000000e-01 1.01714000e+03 9.99000000e+00 1.43900000e+01\n",
      "  1.53754746e+02]\n",
      " [6.90000000e-01 1.01853000e+03 9.98000000e+00 1.35400000e+01\n",
      "  1.52120682e+02]\n",
      " [7.80000000e-01 1.01643000e+03 9.97000000e+00 9.71000000e+00\n",
      "  1.63253937e+02]\n",
      " [7.80000000e-01 1.01636000e+03 9.97000000e+00 9.31000000e+00\n",
      "  1.62582214e+02]\n",
      " [7.80000000e-01 1.01636000e+03 9.97000000e+00 9.32000000e+00\n",
      "  1.62582214e+02]\n",
      " [7.80000000e-01 1.01637000e+03 9.97000000e+00 9.30000000e+00\n",
      "  1.62582214e+02]\n",
      " [7.80000000e-01 1.01637000e+03 9.97000000e+00 9.29000000e+00\n",
      "  1.62582214e+02]\n",
      " [7.60000000e-01 1.01652000e+03 1.00000000e+01 1.12300000e+01\n",
      "  1.59515137e+02]\n",
      " [7.60000000e-01 1.03115000e+03 8.46000000e+00 4.81000000e+00\n",
      "  1.30240814e+02]\n",
      " [7.50000000e-01 1.03042000e+03 8.24000000e+00 4.05000000e+00\n",
      "  1.30240814e+02]\n",
      " [7.30000000e-01 1.03008000e+03 8.18000000e+00 3.00000000e+00\n",
      "  1.30186676e+02]\n",
      " [7.30000000e-01 1.03009000e+03 8.06000000e+00 3.70000000e+00\n",
      "  1.30108627e+02]\n",
      " [7.60000000e-01 1.03093000e+03 8.38000000e+00 5.17000000e+00\n",
      "  1.30015747e+02]\n",
      " [7.50000000e-01 1.03039000e+03 8.23000000e+00 3.96000000e+00\n",
      "  1.29987412e+02]\n",
      " [6.90000000e-01 1.03144000e+03 1.00000000e+01 8.35000000e+00\n",
      "  1.31387070e+02]\n",
      " [6.60000000e-01 1.01513000e+03 9.90000000e+00 4.82000000e+00\n",
      "  1.31050079e+02]\n",
      " [6.60000000e-01 1.01445000e+03 9.88000000e+00 4.62000000e+00\n",
      "  1.31050079e+02]\n",
      " [6.60000000e-01 1.01298000e+03 9.90000000e+00 5.01000000e+00\n",
      "  1.30928864e+02]\n",
      " [6.60000000e-01 1.01284000e+03 9.90000000e+00 5.03000000e+00\n",
      "  1.30928864e+02]\n",
      " [6.60000000e-01 1.01407000e+03 9.91000000e+00 5.77000000e+00\n",
      "  1.30623901e+02]\n",
      " [5.30000000e-01 1.01462000e+03 9.98000000e+00 7.76000000e+00\n",
      "  1.51204483e+02]\n",
      " [5.20000000e-01 1.01462000e+03 9.98000000e+00 7.97000000e+00\n",
      "  1.50784805e+02]\n",
      " [5.60000000e-01 1.01416000e+03 9.99000000e+00 6.77000000e+00\n",
      "  1.49991837e+02]\n",
      " [5.50000000e-01 1.01411000e+03 9.98000000e+00 6.13000000e+00\n",
      "  1.49765945e+02]\n",
      " [5.50000000e-01 1.01415000e+03 9.97000000e+00 6.05000000e+00\n",
      "  1.49700806e+02]\n",
      " [5.30000000e-01 1.01366000e+03 9.98000000e+00 5.35000000e+00\n",
      "  1.48869537e+02]\n",
      " [7.10000000e-01 1.01540000e+03 1.00000000e+01 1.37100000e+01\n",
      "  1.56774765e+02]]\n"
     ]
    }
   ],
   "source": [
    "print(x)"
   ]
  },
  {
   "cell_type": "code",
   "execution_count": 42,
   "id": "857c7c5e",
   "metadata": {},
   "outputs": [],
   "source": [
    "from sklearn.model_selection import train_test_split\n",
    "x_train, x_test, y_train, y_test = train_test_split(x, y, test_size=0.3, random_state=56)"
   ]
  },
  {
   "cell_type": "code",
   "execution_count": 43,
   "id": "02afba01",
   "metadata": {},
   "outputs": [
    {
     "data": {
      "text/plain": [
       "LinearRegression()"
      ]
     },
     "execution_count": 43,
     "metadata": {},
     "output_type": "execute_result"
    }
   ],
   "source": [
    "from sklearn.linear_model import LinearRegression\n",
    "ml = LinearRegression()\n",
    "ml.fit(x_train, y_train)"
   ]
  },
  {
   "cell_type": "code",
   "execution_count": 45,
   "id": "57a91f95",
   "metadata": {},
   "outputs": [
    {
     "data": {
      "text/plain": [
       "array([16.80385011,  0.22226315, -2.72354256,  0.68530328, -0.23533141])"
      ]
     },
     "execution_count": 45,
     "metadata": {},
     "output_type": "execute_result"
    }
   ],
   "source": [
    "ml.coef_"
   ]
  },
  {
   "cell_type": "code",
   "execution_count": 46,
   "id": "21395945",
   "metadata": {},
   "outputs": [
    {
     "data": {
      "text/plain": [
       "-149.18779481161727"
      ]
     },
     "execution_count": 46,
     "metadata": {},
     "output_type": "execute_result"
    }
   ],
   "source": [
    "ml.intercept_"
   ]
  },
  {
   "cell_type": "code",
   "execution_count": 17,
   "id": "eba80ae2",
   "metadata": {},
   "outputs": [
    {
     "name": "stdout",
     "output_type": "stream",
     "text": [
      "[33.51712783 30.77285534 36.65842869 25.43563193 35.91525648 31.42668225\n",
      " 34.7815695  29.45880562 26.35791    29.03953906 35.15701919 39.04325463\n",
      " 42.14174762 29.14502884 33.02863104 32.69208799 27.26413709 35.08782793\n",
      " 33.91752589 22.44337778 41.16816183 35.39631299 39.0838797  36.47696503\n",
      " 26.80833454 29.16584706 30.91594113 26.91687046 26.69980543 34.20363146]\n"
     ]
    }
   ],
   "source": [
    "# Predict the test set results\n",
    "y_pred=ml.predict(x_test)\n",
    "print(y_pred)"
   ]
  },
  {
   "cell_type": "code",
   "execution_count": 14,
   "id": "8b3300d9",
   "metadata": {},
   "outputs": [
    {
     "data": {
      "text/plain": [
       "array([34.20363146])"
      ]
     },
     "execution_count": 14,
     "metadata": {},
     "output_type": "execute_result"
    }
   ],
   "source": [
    "# Actual value - 35.6\n",
    "ml.predict([[0.69, 1027.95, 10.00, 3.80, 136.179718 ]])"
   ]
  },
  {
   "cell_type": "code",
   "execution_count": 15,
   "id": "3711f9bc",
   "metadata": {},
   "outputs": [
    {
     "data": {
      "text/plain": [
       "0.6511322113491791"
      ]
     },
     "execution_count": 15,
     "metadata": {},
     "output_type": "execute_result"
    }
   ],
   "source": [
    "# Evaluate the model\n",
    "from sklearn.metrics import r2_score\n",
    "r2_score(y_test, y_pred)"
   ]
  },
  {
   "cell_type": "code",
   "execution_count": 16,
   "id": "20418aed",
   "metadata": {
    "scrolled": true
   },
   "outputs": [
    {
     "data": {
      "text/plain": [
       "Text(0.5, 1.0, 'Actual vs. Predicted')"
      ]
     },
     "execution_count": 16,
     "metadata": {},
     "output_type": "execute_result"
    },
    {
     "data": {
      "image/png": "[encoded data removed]",
      "text/plain": [
       "<Figure size 432x288 with 1 Axes>"
      ]
     },
     "metadata": {
      "needs_background": "light"
     },
     "output_type": "display_data"
    }
   ],
   "source": [
    "# Plot the results\n",
    "\n",
    "plt.figure(figsize=(6,4))\n",
    "plt.scatter(y_test,y_pred)\n",
    "plt.xlabel('Actual')\n",
    "plt.ylabel('Predicted')\n",
    "plt.title('Actual vs. Predicted')"
   ]
  }
 ],
 "metadata": {
  "kernelspec": {
   "display_name": "Python 3 (ipykernel)",
   "language": "python",
   "name": "python3"
  },
  "language_info": {
   "codemirror_mode": {
    "name": "ipython",
    "version": 3
   },
   "file_extension": ".py",
   "mimetype": "text/x-python",
   "name": "python",
   "nbconvert_exporter": "python",
   "pygments_lexer": "ipython3",
   "version": "3.9.12"
  }
 },
 "nbformat": 4,
 "nbformat_minor": 5
}
